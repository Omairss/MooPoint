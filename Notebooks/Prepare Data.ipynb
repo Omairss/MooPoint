{
 "cells": [
  {
   "cell_type": "markdown",
   "metadata": {},
   "source": [
    "All Imports"
   ]
  },
  {
   "cell_type": "code",
   "execution_count": 161,
   "metadata": {
    "collapsed": true
   },
   "outputs": [],
   "source": [
    "%matplotlib inline\n",
    "import pandas as pd"
   ]
  },
  {
   "cell_type": "markdown",
   "metadata": {},
   "source": [
    "Init Variables"
   ]
  },
  {
   "cell_type": "code",
   "execution_count": 28,
   "metadata": {
    "collapsed": true
   },
   "outputs": [],
   "source": [
    "global DATA_PATH\n",
    "\n",
    "DATA_PATH = '../data/'\n",
    "TEMP_PATH = '../temp/'"
   ]
  },
  {
   "cell_type": "markdown",
   "metadata": {},
   "source": [
    "Index stocks by indistries and read data"
   ]
  },
  {
   "cell_type": "code",
   "execution_count": 21,
   "metadata": {
    "collapsed": false
   },
   "outputs": [],
   "source": [
    "stock_index = pd.read_csv(DATA_PATH + 'stocks/stocks_index.csv')"
   ]
  },
  {
   "cell_type": "code",
   "execution_count": 134,
   "metadata": {
    "collapsed": false
   },
   "outputs": [],
   "source": [
    "def get_data(sector):\n",
    "    \n",
    "    print 'getting fresh data'\n",
    "    \n",
    "    stocks_df = pd.DataFrame(columns = ['Date', 'Open', 'High', 'Low', 'Close', 'Volume', 'Adj Close'])\n",
    "\n",
    "    for index, ticker in stock_index[stock_index['Sector'] == sector].iterrows():\n",
    "\n",
    "        try: stock_df = pd.read_csv(DATA_PATH + 'stocks/daily/' + ticker['BSE_Scrip_Id'] + '.csv', usecols = ['Date', 'Open', 'High', 'Low', 'Close', 'Volume', 'Adj Close'])\n",
    "        except IOError: pass\n",
    "\n",
    "        stock_df['bse_scrip_id'] = ticker['BSE_Scrip_Id']\n",
    "        #stocks_df = pd.merge(stocks_df, stock_df, how = 'outer', on=['Date', 'Open', 'High', 'Low', 'Close', 'Volume', 'Adj Close'])\n",
    "        stocks_df = stocks_df.append(stock_df)\n",
    "\n",
    "    stocks_df['split_ratio'] = stocks_df['Adj Close']/stocks_df['Close']\n",
    "    stocks_df['Adj High'] = stocks_df['split_ratio'] * stocks_df['High']\n",
    "    stocks_df['Adj Low'] = stocks_df['split_ratio'] * stocks_df['Low']\n",
    "    stocks_df['Adj Open'] = stocks_df['split_ratio'] * stocks_df['Open']\n",
    "    stocks_df['Adj Volume'] = stocks_df['split_ratio'] * stocks_df['Volume']\n",
    "    \n",
    "    stocks_df.to_csv(TEMP_PATH + 'stocks/' + sector + '.csv', index = False)\n",
    "    \n",
    "    return stocks_df"
   ]
  },
  {
   "cell_type": "code",
   "execution_count": 154,
   "metadata": {
    "collapsed": true
   },
   "outputs": [],
   "source": [
    "def get_data(sector):\n",
    "    \n",
    "    stocks_by_kind = {}\n",
    "    \n",
    "    stocks_df = pd.DataFrame(columns = ['Date', 'Open', 'High', 'Low', 'Close', 'Volume', 'Adj Close'])\n",
    "\n",
    "    for index, ticker in stock_index[stock_index['Sector'] == sector].iterrows():\n",
    "\n",
    "        try: stock_df = pd.read_csv(DATA_PATH + 'stocks/daily/' + ticker['BSE_Scrip_Id'] + '.csv', usecols = ['Date', 'Open', 'High', 'Low', 'Close', 'Volume', 'Adj Close'], index_col = 'Date', parse_dates = True)\n",
    "        except IOError: continue\n",
    "\n",
    "        stock_df['split_ratio'] = stock_df['Adj Close']   / stock_df['Close']\n",
    "        stock_df['Adj High']    = stock_df['split_ratio'] * stock_df['High']\n",
    "        stock_df['Adj Low']     = stock_df['split_ratio'] * stock_df['Low']\n",
    "        stock_df['Adj Open']    = stock_df['split_ratio'] * stock_df['Open']\n",
    "        stock_df['Adj Volume']  = stock_df['split_ratio'] * stock_df['Volume']                   \n",
    "        #stock_df['bse_scrip_id'] = ticker['BSE_Scrip_Id']\n",
    "        \n",
    "        for kind in list(stock_df.columns):\n",
    "\n",
    "            \n",
    "            stock_column         = stock_df[[kind]]\n",
    "            stock_column.columns = [ticker['BSE_Scrip_Id']]\n",
    "            \n",
    "            if kind not in stocks_by_kind: \n",
    "                stocks_by_kind[kind] = stock_column\n",
    "            else:                          \n",
    "                #stocks_by_kind[kind] = stocks_by_kind[kind].join(stock_column, how = 'outer')\n",
    "                stocks_by_kind[kind] = pd.merge(stocks_by_kind[kind], stock_column, how = 'outer', left_index = True, right_index = True)\n",
    "            \n",
    "    return stocks_by_kind"
   ]
  },
  {
   "cell_type": "markdown",
   "metadata": {
    "collapsed": false
   },
   "source": [
    "Main"
   ]
  },
  {
   "cell_type": "code",
   "execution_count": 155,
   "metadata": {
    "collapsed": false
   },
   "outputs": [],
   "source": [
    "def main():\n",
    "    \n",
    "    sector = 'Technology'\n",
    "    \n",
    "    try: input_df = pd.read_csv(TEMP_PATH + 'stocks/' + sector + '.csv')\n",
    "    except IOError: input_df = get_data(sector)\n",
    "        \n",
    "    return input_df"
   ]
  },
  {
   "cell_type": "code",
   "execution_count": 156,
   "metadata": {
    "collapsed": false,
    "scrolled": true
   },
   "outputs": [],
   "source": [
    "input_df = main()"
   ]
  },
  {
   "cell_type": "code",
   "execution_count": 162,
   "metadata": {
    "collapsed": false,
    "scrolled": true
   },
   "outputs": [
    {
     "data": {
      "text/plain": [
       "<matplotlib.axes._subplots.AxesSubplot at 0x7f4cd5117390>"
      ]
     },
     "execution_count": 162,
     "metadata": {},
     "output_type": "execute_result"
    },
    {
     "data": {
      "image/png": "[encoded data removed]",
      "text/plain": [
       "<matplotlib.figure.Figure at 0x7f4cd7a6d5d0>"
      ]
     },
     "metadata": {},
     "output_type": "display_data"
    }
   ],
   "source": []
  },
  {
   "cell_type": "code",
   "execution_count": 135,
   "metadata": {
    "collapsed": false
   },
   "outputs": [
    {
     "name": "stdout",
     "output_type": "stream",
     "text": [
      "getting fresh data\n"
     ]
    }
   ],
   "source": [
    "input_df = main()"
   ]
  },
  {
   "cell_type": "code",
   "execution_count": null,
   "metadata": {
    "collapsed": true
   },
   "outputs": [],
   "source": []
  }
 ],
 "metadata": {
  "kernelspec": {
   "display_name": "Python 2",
   "language": "python",
   "name": "python2"
  },
  "language_info": {
   "codemirror_mode": {
    "name": "ipython",
    "version": 2
   },
   "file_extension": ".py",
   "mimetype": "text/x-python",
   "name": "python",
   "nbconvert_exporter": "python",
   "pygments_lexer": "ipython2",
   "version": "2.7.11"
  }
 },
 "nbformat": 4,
 "nbformat_minor": 0
}
